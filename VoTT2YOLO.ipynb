{
 "cells": [
  {
   "cell_type": "code",
   "execution_count": null,
   "metadata": {},
   "outputs": [],
   "source": [
    "from pathlib import Path, PureWindowsPath\n",
    "import pandas as pd\n",
    "from PIL import Image\n",
    "import shutil # For copying and renaming files"
   ]
  },
  {
   "cell_type": "code",
   "execution_count": null,
   "metadata": {},
   "outputs": [],
   "source": [
    "# Some paths\n",
    "data_folder = Path(\"C:/Users/Bram/Documents/Somewhere/vott-csv-export\")\n",
    "out_folder = data_folder / 'out'\n",
    "input_csv = data_folder/'vott-export.csv'\n",
    "\n",
    "# Read the CSV file exported by the VoTT tool\n",
    "df = pd.read_csv(input_csv)"
   ]
  },
  {
   "cell_type": "code",
   "execution_count": null,
   "metadata": {},
   "outputs": [],
   "source": [
    "# Iterate over all unique images\n",
    "for name, dfg in df.groupby('image'):\n",
    "    # Get index from first row in the group\n",
    "    index = dfg.head(1).index[0]\n",
    "    img_path = data_folder/PureWindowsPath(dfg.head(1).iloc[0]['image'])\n",
    "    \n",
    "    # File per image with annotations in YOLO format\n",
    "    file  = open(out_folder / \"{:04d}.txt\".format(index), 'w')\n",
    "    \n",
    "    # Copy file to output folder with machine friendly name\n",
    "    shutil.copyfile(img_path, out_folder / \"{:04d}{:s}\".format(index, img_path.suffix))\n",
    "    for index, row in dfg.iterrows():\n",
    "        # Read bounding box (bb) coordinates\n",
    "        bbw = (row[\"xmax\"] - row[\"xmin\"]) # Bounding box width\n",
    "        bbh = (row[\"ymax\"] - row[\"ymin\"]) # Bounding box heigth\n",
    "        bbx_centre = row[\"xmin\"] + 0.5*bbw\n",
    "        bby_centre = row[\"ymin\"] + 0.5*bbh\n",
    "        \n",
    "        # Determine width and height of image\n",
    "        im = Image.open(str(img_path))\n",
    "        im_w, im_h = im.size\n",
    "\n",
    "        # Relative bb coordinates\n",
    "        bbw_rel = bbw/im_w\n",
    "        bbh_rel = bbh/im_h\n",
    "        bbx_centre_rel = bbx_centre/im_w\n",
    "        bby_centre_rel = bby_centre/im_h\n",
    "\n",
    "        # Write to file in YOLO format\n",
    "        file.write(\"0 {:6.4f} {:6.4f} {:6.4f} {:6.4f}\\n\".format(bbx_centre_rel, bby_centre_rel, bbw_rel, bbh_rel))\n",
    "    file.close()"
   ]
  }
 ],
 "metadata": {
  "kernelspec": {
   "display_name": "Python 3",
   "language": "python",
   "name": "python3"
  },
  "language_info": {
   "codemirror_mode": {
    "name": "ipython",
    "version": 3
   },
   "file_extension": ".py",
   "mimetype": "text/x-python",
   "name": "python",
   "nbconvert_exporter": "python",
   "pygments_lexer": "ipython3",
   "version": "3.7.3"
  }
 },
 "nbformat": 4,
 "nbformat_minor": 2
}
